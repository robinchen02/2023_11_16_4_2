{
 "cells": [
  {
   "cell_type": "code",
   "execution_count": 3,
   "metadata": {},
   "outputs": [
    {
     "name": "stdout",
     "output_type": "stream",
     "text": [
      "多吃水果*60"
     ]
    }
   ],
   "source": [
    "print(\"多吃水果\",60,sep='*',end='')"
   ]
  },
  {
   "cell_type": "code",
   "execution_count": 4,
   "metadata": {},
   "outputs": [
    {
     "name": "stdout",
     "output_type": "stream",
     "text": [
      "andrew的成績為80\n"
     ]
    }
   ],
   "source": [
    "name = 'andrew'\n",
    "score = 80\n",
    "print('%s的成績為%d'%(name,score))"
   ]
  },
  {
   "cell_type": "code",
   "execution_count": 5,
   "metadata": {},
   "outputs": [
    {
     "name": "stdout",
     "output_type": "stream",
     "text": [
      "姓名 座號 國文 數學 英文\n",
      "林大明  1 100  87  79\n"
     ]
    }
   ],
   "source": [
    "print('姓名 座號 國文 數學 英文')\n",
    "print('%3s %2d %3d %3d %3d' % ('林大明',1,100,87,79))"
   ]
  },
  {
   "cell_type": "code",
   "execution_count": 11,
   "metadata": {},
   "outputs": [
    {
     "name": "stdout",
     "output_type": "stream",
     "text": [
      "林小名的成績為80\n"
     ]
    }
   ],
   "source": [
    "name = '林小名'\n",
    "score = 80\n",
    "print('{}的成績為{}'.format(name,score))"
   ]
  },
  {
   "cell_type": "code",
   "execution_count": 13,
   "metadata": {},
   "outputs": [
    {
     "name": "stdout",
     "output_type": "stream",
     "text": [
      "108\n"
     ]
    }
   ],
   "source": [
    "num3 = 63 + int(45.3)\n",
    "print(num3)"
   ]
  },
  {
   "cell_type": "code",
   "execution_count": 15,
   "metadata": {},
   "outputs": [
    {
     "name": "stdout",
     "output_type": "stream",
     "text": [
      "小名的成績為80\n"
     ]
    }
   ],
   "source": [
    "score = 80\n",
    "print('小名的成績為'+str(score))"
   ]
  },
  {
   "cell_type": "code",
   "execution_count": 1,
   "metadata": {},
   "outputs": [
    {
     "name": "stdout",
     "output_type": "stream",
     "text": [
      "80\n"
     ]
    }
   ],
   "source": [
    "score = input('請輸入成績')\n",
    "print(score)"
   ]
  },
  {
   "cell_type": "code",
   "execution_count": 2,
   "metadata": {},
   "outputs": [
    {
     "name": "stdout",
     "output_type": "stream",
     "text": [
      "49\n"
     ]
    }
   ],
   "source": [
    "score = 7**2\n",
    "print(score)"
   ]
  },
  {
   "cell_type": "code",
   "execution_count": 6,
   "metadata": {},
   "outputs": [
    {
     "name": "stdout",
     "output_type": "stream",
     "text": [
      "成績總分：259，平均成績：86.33\n"
     ]
    }
   ],
   "source": [
    "chienes = input('請輸入國文成績')\n",
    "math = input('請輸入數學成績')\n",
    "english = input('請輸入英文成績')\n",
    "sum = int(chienes) + int(math) + int(english)\n",
    "average = float(sum/3)\n",
    "print('成績總分：%d，平均成績：%5.2f'%(sum,average))"
   ]
  },
  {
   "cell_type": "code",
   "execution_count": 14,
   "metadata": {},
   "outputs": [
    {
     "name": "stdout",
     "output_type": "stream",
     "text": [
      "密碼錯誤\n"
     ]
    }
   ],
   "source": [
    "number = input('請輸入密碼')\n",
    "if (number == '1234'):print('歡迎光臨')\n",
    "else:print('密碼錯誤')"
   ]
  },
  {
   "cell_type": "code",
   "execution_count": 19,
   "metadata": {},
   "outputs": [
    {
     "name": "stdout",
     "output_type": "stream",
     "text": [
      "甲等\n"
     ]
    }
   ],
   "source": [
    "score = input('請輸入成績')\n",
    "if(score >= '90'):\n",
    "    print('優等')\n",
    "elif(score>='80'):\n",
    "    print('甲等')\n",
    "elif(score>='70'):\n",
    "    print('乙等')\n",
    "elif(score>='60'):\n",
    "    print('丙等')\n",
    "else:\n",
    "    print('丁等')"
   ]
  },
  {
   "cell_type": "code",
   "execution_count": 22,
   "metadata": {},
   "outputs": [
    {
     "name": "stdout",
     "output_type": "stream",
     "text": [
      "87111110 元\n"
     ]
    }
   ],
   "source": [
    "money = int(input('請輸入金額：'))\n",
    "if (money >=10000):\n",
    "    print(int(money*0.8),end=' 元\\n')"
   ]
  },
  {
   "cell_type": "code",
   "execution_count": null,
   "metadata": {},
   "outputs": [],
   "source": []
  }
 ],
 "metadata": {
  "kernelspec": {
   "display_name": "Python 3",
   "language": "python",
   "name": "python3"
  },
  "language_info": {
   "codemirror_mode": {
    "name": "ipython",
    "version": 3
   },
   "file_extension": ".py",
   "mimetype": "text/x-python",
   "name": "python",
   "nbconvert_exporter": "python",
   "pygments_lexer": "ipython3",
   "version": "3.10.13"
  }
 },
 "nbformat": 4,
 "nbformat_minor": 2
}
