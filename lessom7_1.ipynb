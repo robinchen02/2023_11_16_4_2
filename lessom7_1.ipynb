{
 "cells": [
  {
   "cell_type": "code",
   "execution_count": null,
   "metadata": {},
   "outputs": [],
   "source": [
    "#小明想要存錢買一輛機車,機車每輛30000元，他將每月存的錢輸入，當存款足夠買機車時，就顯示提示訊息告知。\n",
    "import pyinputplus as pyip\n",
    "deposit = 0\n",
    "month = 0\n",
    "while deposit < 30000:\n",
    "    month += 1\n",
    "    money_month = pyip.inputInt(f\"請輸入第{month}月份存款:\")    \n",
    "    print(money_month)\n",
    "    deposit += money_month\n",
    "\n",
    "print(f\"恭喜!已經存夠了,共存了{month}月份,總存款為:{deposit}\")"
   ]
  },
  {
   "cell_type": "code",
   "execution_count": 11,
   "metadata": {},
   "outputs": [
    {
     "name": "stdout",
     "output_type": "stream",
     "text": [
      "請輸入第1月份存款:10000\n",
      "請輸入第2月份存款:10000\n",
      "請輸入第3月份存款:10000\n",
      "恭喜!已經存夠了,共存了3月份,總存款為:30000\n"
     ]
    }
   ],
   "source": [
    "#小明想要存錢買一輛機車,機車每輛30000元，他將每月存的錢輸入，當存款足夠買機車時，就顯示提示訊息告知。\n",
    "import pyinputplus as pyip\n",
    "deposit = 0\n",
    "month = 0\n",
    "while deposit < 30000:\n",
    "    month += 1\n",
    "    money_month = pyip.inputInt(f\"請輸入第{month}月份存款:\")    \n",
    "    print(money_month)\n",
    "    deposit += money_month\n",
    "\n",
    "print(f\"恭喜!已經存夠了,共存了{month}月份,總存款為:{deposit}\")"
   ]
  },
  {
   "cell_type": "code",
   "execution_count": 12,
   "metadata": {},
   "outputs": [
    {
     "name": "stdout",
     "output_type": "stream",
     "text": [
      "請輸入小寫英文字[按q會離開]:Tree\n",
      "請輸入小寫英文[按q會離開]:程式結束\n"
     ]
    }
   ],
   "source": [
    "#輸入小寫的英文字,列印出第一個字大寫的英文字\n",
    "#如果輸入q,就會離開\n",
    "\n",
    "stuff=pyip.inputStr(\"請輸入小寫英文字[按q會離開]:\")\n",
    "while(stuff !=\"q\"):\n",
    "    print(stuff.capitalize())\n",
    "    stuff=pyip.inputStr(\"請輸入小寫英文[按q會離開]:\")\n",
    "\n",
    "print(\"程式結束\")"
   ]
  },
  {
   "cell_type": "code",
   "execution_count": 15,
   "metadata": {},
   "outputs": [
    {
     "name": "stdout",
     "output_type": "stream",
     "text": [
      "請輸入小寫英文[按q會離開]:程式結束\n"
     ]
    }
   ],
   "source": [
    "\n",
    "while(True):\n",
    "    stuff=pyip.inputStr(\"請輸入小寫英文[按q會離開]:\")\n",
    "    if stuff==\"q\":\n",
    "        break\n",
    "    print(stuff.capitalize())\n",
    "\n",
    "print(\"程式結束\")\n",
    "\n"
   ]
  },
  {
   "cell_type": "code",
   "execution_count": 18,
   "metadata": {},
   "outputs": [
    {
     "name": "stdout",
     "output_type": "stream",
     "text": [
      "請輸入第1位學生成績:100\n",
      "請輸入第2位學生成績:100\n",
      "請輸入第3位學生成績:100\n",
      "請輸入第4位學生成績:100\n",
      "請輸入第5位學生成績:-1\n",
      "全班總成績:400,平均為100.0\n"
     ]
    }
   ],
   "source": [
    "\n",
    "sum=0\n",
    "num=0\n",
    "while(True):\n",
    "  \n",
    "    score=pyip.inputInt(f\"請輸入第{num+1}位學生成績:\")\n",
    "    print(score)\n",
    "    if score<0:\n",
    "        break\n",
    "    num+=1\n",
    "    sum+=score\n",
    "\n",
    "print(f\"全班總成績:{sum},平均為{sum/num}\")"
   ]
  },
  {
   "cell_type": "code",
   "execution_count": 23,
   "metadata": {},
   "outputs": [
    {
     "ename": "ValueError",
     "evalue": "invalid literal for int() with base 10: ''",
     "output_type": "error",
     "traceback": [
      "\u001b[0;31m---------------------------------------------------------------------------\u001b[0m",
      "\u001b[0;31mValueError\u001b[0m                                Traceback (most recent call last)",
      "\u001b[1;32m/workspaces/2023_11_16_4_2/lessom7_1.ipynb 儲存格 6\u001b[0m line \u001b[0;36m1\n\u001b[1;32m      <a href='vscode-notebook-cell://codespaces%2Bspecial-space-dollop-699r96vv95v435756/workspaces/2023_11_16_4_2/lessom7_1.ipynb#W5sdnNjb2RlLXJlbW90ZQ%3D%3D?line=7'>8</a>\u001b[0m \u001b[39mif\u001b[39;00m value \u001b[39m==\u001b[39m \u001b[39m'\u001b[39m\u001b[39mq\u001b[39m\u001b[39m'\u001b[39m:\n\u001b[1;32m      <a href='vscode-notebook-cell://codespaces%2Bspecial-space-dollop-699r96vv95v435756/workspaces/2023_11_16_4_2/lessom7_1.ipynb#W5sdnNjb2RlLXJlbW90ZQ%3D%3D?line=8'>9</a>\u001b[0m     \u001b[39mbreak\u001b[39;00m\n\u001b[0;32m---> <a href='vscode-notebook-cell://codespaces%2Bspecial-space-dollop-699r96vv95v435756/workspaces/2023_11_16_4_2/lessom7_1.ipynb#W5sdnNjb2RlLXJlbW90ZQ%3D%3D?line=10'>11</a>\u001b[0m valueInt \u001b[39m=\u001b[39m \u001b[39mint\u001b[39;49m(value)\n\u001b[1;32m     <a href='vscode-notebook-cell://codespaces%2Bspecial-space-dollop-699r96vv95v435756/workspaces/2023_11_16_4_2/lessom7_1.ipynb#W5sdnNjb2RlLXJlbW90ZQ%3D%3D?line=11'>12</a>\u001b[0m \u001b[39mif\u001b[39;00m valueInt \u001b[39m%\u001b[39m \u001b[39m2\u001b[39m \u001b[39m==\u001b[39m \u001b[39m1\u001b[39m:\n\u001b[1;32m     <a href='vscode-notebook-cell://codespaces%2Bspecial-space-dollop-699r96vv95v435756/workspaces/2023_11_16_4_2/lessom7_1.ipynb#W5sdnNjb2RlLXJlbW90ZQ%3D%3D?line=12'>13</a>\u001b[0m     \u001b[39mprint\u001b[39m(\u001b[39mf\u001b[39m\u001b[39m\"\u001b[39m\u001b[39m{\u001b[39;00mvalueInt\u001b[39m}\u001b[39;00m\u001b[39m的平方是\u001b[39m\u001b[39m{\u001b[39;00mvalueInt\u001b[39m \u001b[39m\u001b[39m*\u001b[39m\u001b[39m*\u001b[39m\u001b[39m \u001b[39m\u001b[39m2\u001b[39m\u001b[39m}\u001b[39;00m\u001b[39m\"\u001b[39m)\n",
      "\u001b[0;31mValueError\u001b[0m: invalid literal for int() with base 10: ''"
     ]
    }
   ],
   "source": [
    "\n",
    "\n",
    "#顯示:\n",
    "#奇數輸出平方\n",
    "#偶數不做任何動作\n",
    "#'q'要離開\n",
    "\n",
    "while(True):\n",
    "    value = input(\"請輸入整數,輸入[q]離開:\")\n",
    "    if value == 'q':\n",
    "        break\n",
    "    \n",
    "    valueInt = int(value)\n",
    "    if valueInt % 2 == 1:\n",
    "        print(f\"{valueInt}的平方是{valueInt ** 2}\")\n",
    "    else:\n",
    "        print(\"不做事\")\n",
    "\n",
    "print(\"應用程式結束\")"
   ]
  },
  {
   "cell_type": "code",
   "execution_count": 24,
   "metadata": {},
   "outputs": [
    {
     "name": "stdout",
     "output_type": "stream",
     "text": [
      "d格式錯誤\n"
     ]
    }
   ],
   "source": [
    "#顯示:\n",
    "#奇數輸出平方\n",
    "#偶數不做任何動作\n",
    "#'q'要離開\n",
    "\n",
    "while(True):\n",
    "    value = input(\"請輸入整數,輸入[q]離開:\")\n",
    "    if value == 'q':\n",
    "        break\n",
    "    \n",
    "    try:\n",
    "        valueInt=int(value)\n",
    "    except:\n",
    "        print(f\"{value}格式錯誤\")\n",
    "        continue\n",
    "    \n",
    "    valueInt = int(value)\n",
    "    if valueInt % 2 == 1:\n",
    "        print(f\"{valueInt}的平方是{valueInt ** 2}\")\n",
    "    else:\n",
    "        print(\"不做事\")\n",
    "\n",
    "print(\"應用程式結束\")"
   ]
  },
  {
   "cell_type": "code",
   "execution_count": null,
   "metadata": {},
   "outputs": [],
   "source": []
  }
 ],
 "metadata": {
  "kernelspec": {
   "display_name": "Python 3",
   "language": "python",
   "name": "python3"
  },
  "language_info": {
   "codemirror_mode": {
    "name": "ipython",
    "version": 3
   },
   "file_extension": ".py",
   "mimetype": "text/x-python",
   "name": "python",
   "nbconvert_exporter": "python",
   "pygments_lexer": "ipython3",
   "version": "3.10.13"
  }
 },
 "nbformat": 4,
 "nbformat_minor": 2
}
