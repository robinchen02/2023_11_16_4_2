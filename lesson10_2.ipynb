{
 "cells": [
  {
   "cell_type": "code",
   "execution_count": null,
   "metadata": {},
   "outputs": [],
   "source": [
    "with open(\"names.txt\",mode=\"r\",encoding=\"utf-8\") as file:\n",
    "    names:str = file.read()\n",
    "\n",
    "nameslist:list[str] = names.split(\"\\n\")\n",
    "\n",
    "for name in nameslist:\n",
    "    print (name)"
   ]
  },
  {
   "cell_type": "code",
   "execution_count": 4,
   "metadata": {},
   "outputs": [
    {
     "name": "stdout",
     "output_type": "stream",
     "text": [
      "命名選取器(請輸入1~10)"
     ]
    },
    {
     "name": "stdout",
     "output_type": "stream",
     "text": [
      "您有以下的建議名字:\n",
      "['唐雪豪', '林麗萍', '賴又琦', '錢欣潔', '劉佳佩']\n"
     ]
    }
   ],
   "source": [
    "import random\n",
    "import pyinputplus as pyip\n",
    "\n",
    "numbers:int = pyip.inputInt(\"命名選取器(請輸入1~10)\",min=1,max=10)\n",
    "print(\"您有以下的建議名字:\")\n",
    "namePart:list[str] = random.choices(nameslist,k=numbers)\n",
    "print(namePart)"
   ]
  },
  {
   "cell_type": "code",
   "execution_count": 5,
   "metadata": {},
   "outputs": [
    {
     "data": {
      "text/plain": [
       "[45]"
      ]
     },
     "execution_count": 5,
     "metadata": {},
     "output_type": "execute_result"
    }
   ],
   "source": [
    "import random\n",
    "[random.randint(40,100)]"
   ]
  },
  {
   "cell_type": "code",
   "execution_count": 8,
   "metadata": {},
   "outputs": [
    {
     "data": {
      "text/plain": [
       "[56, 45, 48, 81, 42]"
      ]
     },
     "execution_count": 8,
     "metadata": {},
     "output_type": "execute_result"
    }
   ],
   "source": [
    "stu:list[int] = []\n",
    "scores_nums:int = 5\n",
    "for i in range(scores_nums):\n",
    "    stu.append(random.randint(40,100))\n",
    "stu"
   ]
  },
  {
   "cell_type": "code",
   "execution_count": 15,
   "metadata": {},
   "outputs": [
    {
     "name": "stdout",
     "output_type": "stream",
     "text": [
      "請輸入學生的人數(1~50):10\n",
      "請輸入科目數(1~7)7\n",
      "['劉雯芬', 89, 64, 98, 60, 94, 77, 62]\n",
      "['黃奎紹', 74, 79, 80, 65, 84, 76, 99]\n",
      "['陳家年', 92, 73, 75, 53, 71, 54, 95]\n",
      "['李立偉', 41, 69, 65, 85, 57, 68, 40]\n",
      "['林世城', 100, 65, 94, 47, 53, 82, 71]\n",
      "['王泓泰', 42, 60, 57, 85, 84, 84, 66]\n",
      "['張家秀', 79, 80, 82, 72, 92, 40, 46]\n",
      "['王展人', 66, 84, 60, 99, 95, 83, 81]\n",
      "['蔡至剛', 80, 89, 70, 83, 93, 55, 84]\n",
      "['陳怡容', 92, 98, 46, 74, 86, 95, 47]\n"
     ]
    }
   ],
   "source": [
    "student_nums:int = pyip.inputInt(\"請輸入學生的人數(1~50):\",min=1,max=50)\n",
    "print(student_nums)\n",
    "scores_nums:int = pyip.inputInt(\"請輸入科目數(1~7)\",min=1,max=7)\n",
    "print(scores_nums)\n",
    "\n",
    "names:list[str] = random.choices(nameslist,k=student_nums)\n",
    "for name in names:\n",
    "    stu:list[int|str] = []\n",
    "    stu.append(name)\n",
    "    for i in range(scores_nums):\n",
    "        stu.append(random.randint(40,100))\n",
    "    print(stu)\n"
   ]
  },
  {
   "cell_type": "code",
   "execution_count": null,
   "metadata": {},
   "outputs": [],
   "source": []
  }
 ],
 "metadata": {
  "kernelspec": {
   "display_name": "Python 3",
   "language": "python",
   "name": "python3"
  },
  "language_info": {
   "codemirror_mode": {
    "name": "ipython",
    "version": 3
   },
   "file_extension": ".py",
   "mimetype": "text/x-python",
   "name": "python",
   "nbconvert_exporter": "python",
   "pygments_lexer": "ipython3",
   "version": "3.10.13"
  }
 },
 "nbformat": 4,
 "nbformat_minor": 2
}
