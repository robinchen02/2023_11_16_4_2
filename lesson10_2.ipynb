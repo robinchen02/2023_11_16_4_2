{
 "cells": [
  {
   "cell_type": "code",
   "execution_count": null,
   "metadata": {},
   "outputs": [],
   "source": [
    "with open(\"names.txt\",mode=\"r\",encoding=\"utf-8\") as file:\n",
    "    names:str = file.read()\n",
    "\n",
    "nameslist:list[str] = names.split(\"\\n\")\n",
    "\n",
    "for name in nameslist:\n",
    "    print (name)"
   ]
  },
  {
   "cell_type": "code",
   "execution_count": 4,
   "metadata": {},
   "outputs": [
    {
     "name": "stdout",
     "output_type": "stream",
     "text": [
      "命名選取器(請輸入1~10)"
     ]
    },
    {
     "name": "stdout",
     "output_type": "stream",
     "text": [
      "您有以下的建議名字:\n",
      "['唐雪豪', '林麗萍', '賴又琦', '錢欣潔', '劉佳佩']\n"
     ]
    }
   ],
   "source": [
    "import random\n",
    "import pyinputplus as pyip\n",
    "\n",
    "numbers:int = pyip.inputInt(\"命名選取器(請輸入1~10)\",min=1,max=10)\n",
    "print(\"您有以下的建議名字:\")\n",
    "namePart:list[str] = random.choices(nameslist,k=numbers)\n",
    "print(namePart)"
   ]
  },
  {
   "cell_type": "code",
   "execution_count": null,
   "metadata": {},
   "outputs": [],
   "source": [
    "import random\n",
    "random.randint(1,10)"
   ]
  }
 ],
 "metadata": {
  "kernelspec": {
   "display_name": "Python 3",
   "language": "python",
   "name": "python3"
  },
  "language_info": {
   "codemirror_mode": {
    "name": "ipython",
    "version": 3
   },
   "file_extension": ".py",
   "mimetype": "text/x-python",
   "name": "python",
   "nbconvert_exporter": "python",
   "pygments_lexer": "ipython3",
   "version": "3.10.13"
  }
 },
 "nbformat": 4,
 "nbformat_minor": 2
}
