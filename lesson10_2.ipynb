{
 "cells": [
  {
   "cell_type": "code",
   "execution_count": null,
   "metadata": {},
   "outputs": [],
   "source": [
    "with open(\"names.txt\",mode=\"r\",encoding=\"utf-8\") as file:\n",
    "    names:str = file.read()\n",
    "\n",
    "nameslist:list[str] = names.split(\"\\n\")\n",
    "\n",
    "for name in nameslist:\n",
    "    print (name)"
   ]
  },
  {
   "cell_type": "code",
   "execution_count": 4,
   "metadata": {},
   "outputs": [
    {
     "name": "stdout",
     "output_type": "stream",
     "text": [
      "命名選取器(請輸入1~10)"
     ]
    },
    {
     "name": "stdout",
     "output_type": "stream",
     "text": [
      "您有以下的建議名字:\n",
      "['唐雪豪', '林麗萍', '賴又琦', '錢欣潔', '劉佳佩']\n"
     ]
    }
   ],
   "source": [
    "import random\n",
    "import pyinputplus as pyip\n",
    "\n",
    "numbers:int = pyip.inputInt(\"命名選取器(請輸入1~10)\",min=1,max=10)\n",
    "print(\"您有以下的建議名字:\")\n",
    "namePart:list[str] = random.choices(nameslist,k=numbers)\n",
    "print(namePart)"
   ]
  },
  {
   "cell_type": "code",
   "execution_count": 5,
   "metadata": {},
   "outputs": [
    {
     "data": {
      "text/plain": [
       "[45]"
      ]
     },
     "execution_count": 5,
     "metadata": {},
     "output_type": "execute_result"
    }
   ],
   "source": [
    "import random\n",
    "[random.randint(40,100)]"
   ]
  },
  {
   "cell_type": "code",
   "execution_count": 8,
   "metadata": {},
   "outputs": [
    {
     "data": {
      "text/plain": [
       "[56, 45, 48, 81, 42]"
      ]
     },
     "execution_count": 8,
     "metadata": {},
     "output_type": "execute_result"
    }
   ],
   "source": [
    "stu:list[int] = []\n",
    "scores_nums:int = 5\n",
    "for i in range(scores_nums):\n",
    "    stu.append(random.randint(40,100))\n",
    "stu"
   ]
  },
  {
   "cell_type": "code",
   "execution_count": 16,
   "metadata": {},
   "outputs": [
    {
     "name": "stdout",
     "output_type": "stream",
     "text": [
      "請輸入學生的人數(1~50):5\n",
      "請輸入科目數(1~7)Number must be at maximum 7.\n",
      "請輸入科目數(1~7)4\n"
     ]
    },
    {
     "data": {
      "text/plain": [
       "[['周芷蓁', 61, 87, 52, 48],\n",
       " ['陳美惠', 82, 94, 70, 50],\n",
       " ['張彥博', 68, 61, 81, 77],\n",
       " ['王人仰', 79, 59, 75, 74],\n",
       " ['許淑婷', 73, 95, 67, 73]]"
      ]
     },
     "execution_count": 16,
     "metadata": {},
     "output_type": "execute_result"
    }
   ],
   "source": [
    "student_nums:int = pyip.inputInt(\"請輸入學生的人數(1~50):\",min=1,max=50)\n",
    "print(student_nums)\n",
    "scores_nums:int = pyip.inputInt(\"請輸入科目數(1~7)\",min=1,max=7)\n",
    "print(scores_nums)\n",
    "\n",
    "students:list[list] = []\n",
    "\n",
    "\n",
    "names:list[str] = random.choices(nameslist,k=student_nums)\n",
    "for name in names:\n",
    "    stu:list[int|str] = []\n",
    "    stu.append(name)\n",
    "    for i in range(scores_nums):\n",
    "        stu.append(random.randint(40,100))\n",
    "    students.append(stu)\n",
    "\n",
    "students\n"
   ]
  },
  {
   "cell_type": "code",
   "execution_count": null,
   "metadata": {},
   "outputs": [],
   "source": []
  }
 ],
 "metadata": {
  "kernelspec": {
   "display_name": "Python 3",
   "language": "python",
   "name": "python3"
  },
  "language_info": {
   "codemirror_mode": {
    "name": "ipython",
    "version": 3
   },
   "file_extension": ".py",
   "mimetype": "text/x-python",
   "name": "python",
   "nbconvert_exporter": "python",
   "pygments_lexer": "ipython3",
   "version": "3.10.13"
  }
 },
 "nbformat": 4,
 "nbformat_minor": 2
}
