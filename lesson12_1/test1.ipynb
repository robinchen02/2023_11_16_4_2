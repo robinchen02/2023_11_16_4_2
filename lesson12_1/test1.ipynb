{
 "cells": [
  {
   "cell_type": "code",
   "execution_count": 4,
   "metadata": {},
   "outputs": [],
   "source": [
    "stu1 = {\n",
    "    '姓名':'陳怡伶',\n",
    "    '國文':89,\n",
    "    '英文':92,\n",
    "    '數學':83,\n",
    "    '地理':91,\n",
    "    '歷史':65,\n",
    "    }\n",
    "\n",
    "stu2 = {\n",
    "    '姓名':'馮芳如',\n",
    "    '國文':92,\n",
    "    '英文':75,\n",
    "    '數學':92,\n",
    "    '地理':89,\n",
    "    '歷史':77,\n",
    "    }"
   ]
  },
  {
   "cell_type": "code",
   "execution_count": 5,
   "metadata": {},
   "outputs": [
    {
     "data": {
      "text/plain": [
       "[{'姓名': '陳怡伶', '國文': 89, '英文': 92, '數學': 83, '地理': 91, '歷史': 65},\n",
       " {'姓名': '馮芳如', '國文': 92, '英文': 75, '數學': 92, '地理': 89, '歷史': 77}]"
      ]
     },
     "execution_count": 5,
     "metadata": {},
     "output_type": "execute_result"
    }
   ],
   "source": [
    "students = [stu1,stu2]\n",
    "students"
   ]
  },
  {
   "cell_type": "code",
   "execution_count": 15,
   "metadata": {},
   "outputs": [
    {
     "data": {
      "text/plain": [
       "[{'姓名': '余宗儒', '國文': 100, '英文': 93, '數學': 73, '地理': 49, '歷史': 66},\n",
       " {'姓名': '張凱妮', '國文': 92, '英文': 87, '數學': 91, '地理': 98, '歷史': 91},\n",
       " {'姓名': '黃善迪', '國文': 75, '英文': 64, '數學': 97, '地理': 54, '歷史': 48},\n",
       " {'姓名': '林思賢', '國文': 73, '英文': 78, '數學': 51, '地理': 94, '歷史': 60},\n",
       " {'姓名': '劉佳佩', '國文': 62, '英文': 73, '數學': 70, '地理': 52, '歷史': 73}]"
      ]
     },
     "execution_count": 15,
     "metadata": {},
     "output_type": "execute_result"
    }
   ],
   "source": [
    "\n",
    "from random import randint,choices\n",
    "def getStudents(nums:int) -> list[dict]:\n",
    "    students :list[dict] = []\n",
    "    with open(\"names.txt\",mode=\"r\",encoding=\"utf-8\") as file:\n",
    "        names:str = file.read()\n",
    "    nameslist:list[str] = names.split(\"\\n\")\n",
    "    names:list[str] = choices(nameslist,k=nums)\n",
    "\n",
    "    for i in range(nums):\n",
    "        stu = {\n",
    "        '姓名':names[i],\n",
    "        '國文':randint(45,100),\n",
    "        '英文':randint(45,100),\n",
    "        '數學':randint(45,100),\n",
    "        '地理':randint(45,100),\n",
    "        '歷史':randint(45,100),\n",
    "        }\n",
    "        students.append(stu)\n",
    "\n",
    "\n",
    "    return students\n",
    "\n",
    "students = getStudents(5)\n",
    "students"
   ]
  },
  {
   "cell_type": "code",
   "execution_count": 16,
   "metadata": {},
   "outputs": [
    {
     "name": "stdout",
     "output_type": "stream",
     "text": [
      "請輸入學生的人數(1~50):10\n"
     ]
    },
    {
     "data": {
      "text/plain": [
       "[{'姓名': '林益妏', '國文': 47, '英文': 53, '數學': 98, '地理': 66, '歷史': 46},\n",
       " {'姓名': '趙家豪', '國文': 94, '英文': 67, '數學': 58, '地理': 89, '歷史': 97},\n",
       " {'姓名': '鄭孟芳', '國文': 62, '英文': 99, '數學': 63, '地理': 54, '歷史': 57},\n",
       " {'姓名': '林佳蓉', '國文': 51, '英文': 54, '數學': 88, '地理': 77, '歷史': 49},\n",
       " {'姓名': '童建霖', '國文': 89, '英文': 94, '數學': 48, '地理': 64, '歷史': 88},\n",
       " {'姓名': '許芳如', '國文': 84, '英文': 47, '數學': 86, '地理': 47, '歷史': 88},\n",
       " {'姓名': '張天亨', '國文': 85, '英文': 47, '數學': 58, '地理': 71, '歷史': 56},\n",
       " {'姓名': '謝貞妃', '國文': 91, '英文': 56, '數學': 80, '地理': 91, '歷史': 95},\n",
       " {'姓名': '林佳慧', '國文': 45, '英文': 51, '數學': 77, '地理': 91, '歷史': 84},\n",
       " {'姓名': '鍾俞禎', '國文': 70, '英文': 92, '數學': 96, '地理': 90, '歷史': 48}]"
      ]
     },
     "execution_count": 16,
     "metadata": {},
     "output_type": "execute_result"
    }
   ],
   "source": [
    "import pyinputplus as pyip\n",
    "s_nums:int = pyip.inputInt(\"請輸入學生的人數(1~50):\",min=1,max=50)\n",
    "print (s_nums)\n",
    "students = getStudents(s_nums)\n",
    "students"
   ]
  },
  {
   "cell_type": "code",
   "execution_count": 22,
   "metadata": {},
   "outputs": [
    {
     "name": "stdout",
     "output_type": "stream",
     "text": [
      "寫入成功\n"
     ]
    }
   ],
   "source": [
    "import csv\n",
    "from csv import DictWriter\n",
    "\n",
    "def save_to_csv(students:list[dict]):\n",
    "    with open (\"class.csv\",mode =\"w\",encoding=\"utf-8\",newline=\"\") as file:\n",
    "        fieldnames:list[str] = ['姓名','國文','英文','數學','地理','歷史']\n",
    "        writer:DictWriter =  csv.DictWriter(file,fieldnames=fieldnames)\n",
    "        writer.writeheader()\n",
    "        writer.writerows(students)\n",
    "    print (\"寫入成功\")\n",
    "\n",
    "save_to_csv(students)"
   ]
  },
  {
   "cell_type": "code",
   "execution_count": null,
   "metadata": {},
   "outputs": [],
   "source": []
  }
 ],
 "metadata": {
  "kernelspec": {
   "display_name": "Python 3",
   "language": "python",
   "name": "python3"
  },
  "language_info": {
   "codemirror_mode": {
    "name": "ipython",
    "version": 3
   },
   "file_extension": ".py",
   "mimetype": "text/x-python",
   "name": "python",
   "nbconvert_exporter": "python",
   "pygments_lexer": "ipython3",
   "version": "3.10.13"
  }
 },
 "nbformat": 4,
 "nbformat_minor": 2
}
