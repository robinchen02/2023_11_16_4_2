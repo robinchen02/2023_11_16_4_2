{
 "cells": [
  {
   "cell_type": "code",
   "execution_count": 1,
   "metadata": {},
   "outputs": [
    {
     "data": {
      "text/plain": [
       "5"
      ]
     },
     "execution_count": 1,
     "metadata": {},
     "output_type": "execute_result"
    }
   ],
   "source": [
    "n=5\n",
    "n+5\n",
    "n"
   ]
  },
  {
   "cell_type": "code",
   "execution_count": 2,
   "metadata": {},
   "outputs": [
    {
     "data": {
      "text/plain": [
       "10"
      ]
     },
     "execution_count": 2,
     "metadata": {},
     "output_type": "execute_result"
    }
   ],
   "source": [
    "n=5\n",
    "n=n+5\n",
    "n"
   ]
  },
  {
   "cell_type": "code",
   "execution_count": 3,
   "metadata": {},
   "outputs": [
    {
     "data": {
      "text/plain": [
       "5"
      ]
     },
     "execution_count": 3,
     "metadata": {},
     "output_type": "execute_result"
    }
   ],
   "source": [
    "n=5\n",
    "n=+5\n",
    "n"
   ]
  },
  {
   "cell_type": "code",
   "execution_count": 4,
   "metadata": {},
   "outputs": [
    {
     "data": {
      "text/plain": [
       "10"
      ]
     },
     "execution_count": 4,
     "metadata": {},
     "output_type": "execute_result"
    }
   ],
   "source": [
    "n=5\n",
    "n+=5\n",
    "n"
   ]
  },
  {
   "cell_type": "code",
   "execution_count": 5,
   "metadata": {},
   "outputs": [
    {
     "name": "stdout",
     "output_type": "stream",
     "text": [
      "3數相加總合是3699\n"
     ]
    }
   ],
   "source": [
    "total=0\n",
    "value=eval(input(\"請輸入第一個數值\"))\n",
    "total=total+value\n",
    "\n",
    "value=eval(input(\"請輸入第2個數值\"))\n",
    "total=total+value\n",
    "\n",
    "value=eval(input(\"請輸入第3個數值\"))\n",
    "total=total+value\n",
    "\n",
    "print(f\"3數相加總合是{total}\")\n",
    "\n"
   ]
  },
  {
   "cell_type": "code",
   "execution_count": 6,
   "metadata": {},
   "outputs": [
    {
     "name": "stdout",
     "output_type": "stream",
     "text": [
      "3數相加總合是999\n"
     ]
    }
   ],
   "source": [
    "total=0\n",
    "value=eval(input(\"請輸入第一個數值\"))\n",
    "total+=value\n",
    "\n",
    "value=eval(input(\"請輸入第2個數值\"))\n",
    "total+=value\n",
    "\n",
    "value=eval(input(\"請輸入第3個數值\"))\n",
    "total+=value\n",
    "\n",
    "print(f\"3數相加總合是{total}\")"
   ]
  },
  {
   "cell_type": "code",
   "execution_count": 12,
   "metadata": {},
   "outputs": [
    {
     "name": "stdout",
     "output_type": "stream",
     "text": [
      "對邊:25,斜邊:60\n",
      "角度24.62\n"
     ]
    }
   ],
   "source": [
    "import math\n",
    "\n",
    "side=eval(input(\"請輸入對邊\"))\n",
    "another_side=eval(input(\"請輸入斜邊\"))\n",
    "\n",
    "radian=math.asin(side/another_side)\n",
    "degree=math.degrees(radian)\n",
    "degree\n",
    "\n",
    "print(f\"對邊:{side},斜邊:{another_side}\")\n",
    "print(f\"角度{degree:.2f}\")"
   ]
  },
  {
   "cell_type": "code",
   "execution_count": null,
   "metadata": {},
   "outputs": [],
   "source": []
  }
 ],
 "metadata": {
  "kernelspec": {
   "display_name": "Python 3",
   "language": "python",
   "name": "python3"
  },
  "language_info": {
   "codemirror_mode": {
    "name": "ipython",
    "version": 3
   },
   "file_extension": ".py",
   "mimetype": "text/x-python",
   "name": "python",
   "nbconvert_exporter": "python",
   "pygments_lexer": "ipython3",
   "version": "3.10.13"
  }
 },
 "nbformat": 4,
 "nbformat_minor": 2
}
