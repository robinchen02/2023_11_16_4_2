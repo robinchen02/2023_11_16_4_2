{
 "cells": [
  {
   "cell_type": "code",
   "execution_count": 4,
   "metadata": {},
   "outputs": [
    {
     "name": "stdout",
     "output_type": "stream",
     "text": [
      "請輸入學生分數(0~100):不及格\n"
     ]
    }
   ],
   "source": [
    "#請輸入學生分數0~100\n",
    "#0~59不及格\n",
    "#60~79及格\n",
    "#80-100優\n",
    "import pyinputplus as pyip\n",
    "\n",
    "scores=pyip.inputInt(\"請輸入學生分數(0~100):\",max=100,min=0)\n",
    "\n",
    "if scores<60:\n",
    "    print(\"不及格\")\n",
    "else:\n",
    "    if scores< 80:\n",
    "        print(\"及格\")\n",
    "    else:\n",
    "        print(\"優\")"
   ]
  },
  {
   "cell_type": "code",
   "execution_count": 10,
   "metadata": {},
   "outputs": [
    {
     "name": "stdout",
     "output_type": "stream",
     "text": [
      "請輸入學生分數(0~100):優\n"
     ]
    }
   ],
   "source": [
    "#請輸入學生分數0~100\n",
    "#0~59不及格\n",
    "#60~79及格\n",
    "#80-100優\n",
    "import pyinputplus as pyip\n",
    "\n",
    "scores=pyip.inputInt(\"請輸入學生分數(0~100):\",max=100,min=0)\n",
    "\n",
    "if scores<60:\n",
    "    print(\"不及格\")\n",
    "elif scores< 80:\n",
    "        print(\"及格\")\n",
    "else:\n",
    "        print(\"優\")"
   ]
  },
  {
   "cell_type": "code",
   "execution_count": 12,
   "metadata": {},
   "outputs": [
    {
     "name": "stdout",
     "output_type": "stream",
     "text": [
      "請輸入學生分數(0~100):69\n",
      "丙\n"
     ]
    }
   ],
   "source": [
    "#90(含)~100分為優\n",
    "#80(含)~89分為甲\n",
    "#70(含)~79分為乙\n",
    "#60(含)~69分為丙\n",
    "#0(含)~59分為丁\n",
    "\n",
    "\n",
    "\n",
    "import pyinputplus as pyip\n",
    "\n",
    "scores=pyip.inputInt(\"請輸入學生分數(0~100):\",max=100,min=0)\n",
    "print(scores)\n",
    "if scores<60:\n",
    "    print(\"丁\")\n",
    "elif scores<70:\n",
    "    print(\"丙\")\n",
    "elif scores<80:\n",
    "    print(\"乙\")\n",
    "else:\n",
    "    print(\"優\")"
   ]
  },
  {
   "cell_type": "code",
   "execution_count": 16,
   "metadata": {},
   "outputs": [
    {
     "name": "stdout",
     "output_type": "stream",
     "text": [
      "請輸入學生分數(0~100):90\n",
      "優\n"
     ]
    }
   ],
   "source": [
    "#90(含)~100分為優\n",
    "#80(含)~89分為甲\n",
    "#70(含)~79分為乙\n",
    "#60(含)~69分為丙\n",
    "#0(含)~59分為丁\n",
    "\n",
    "\n",
    "\n",
    "import pyinputplus as pyip\n",
    "\n",
    "scores=pyip.inputInt(\"請輸入學生分數(0~100):\",max=100,min=0)\n",
    "print(scores)\n",
    "#多項選擇\n",
    "if scores<60:\n",
    "    print(\"丁\")\n",
    "elif scores<70:\n",
    "    print(\"丙\")\n",
    "elif scores<80:\n",
    "    print(\"乙\")\n",
    "elif scores>=90:\n",
    "    print(\"優\")"
   ]
  },
  {
   "cell_type": "code",
   "execution_count": null,
   "metadata": {},
   "outputs": [],
   "source": []
  }
 ],
 "metadata": {
  "kernelspec": {
   "display_name": "Python 3",
   "language": "python",
   "name": "python3"
  },
  "language_info": {
   "codemirror_mode": {
    "name": "ipython",
    "version": 3
   },
   "file_extension": ".py",
   "mimetype": "text/x-python",
   "name": "python",
   "nbconvert_exporter": "python",
   "pygments_lexer": "ipython3",
   "version": "3.10.13"
  }
 },
 "nbformat": 4,
 "nbformat_minor": 2
}
