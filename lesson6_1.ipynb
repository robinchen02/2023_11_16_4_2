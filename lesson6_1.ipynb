{
 "cells": [
  {
   "cell_type": "code",
   "execution_count": 2,
   "metadata": {},
   "outputs": [
    {
     "name": "stdout",
     "output_type": "stream",
     "text": [
      "請輸入學生分數(0~100):60\n",
      "丙\n"
     ]
    }
   ],
   "source": [
    "#90(含)~100分為優\n",
    "#80(含)~89分為甲\n",
    "#70(含)~79分為乙\n",
    "#60(含)~69分為丙\n",
    "#0(含)~59分為丁\n",
    "\n",
    "\n",
    "\n",
    "import pyinputplus as pyip\n",
    "\n",
    "scores=pyip.inputInt(\"請輸入學生分數(0~100):\",max=100,min=0)\n",
    "print(scores)\n",
    "#多項選擇\n",
    "if scores>=90:\n",
    "    print(\"優\")\n",
    "elif scores>=80:\n",
    "    print(\"甲\")\n",
    "elif scores>=70:\n",
    "    print(\"乙\")\n",
    "elif scores>=60:\n",
    "    print(\"丙\")\n",
    "else:\n",
    "    print(\"丁\")"
   ]
  },
  {
   "cell_type": "code",
   "execution_count": 4,
   "metadata": {},
   "outputs": [
    {
     "name": "stdout",
     "output_type": "stream",
     "text": [
      "成年\n"
     ]
    }
   ],
   "source": [
    "#not運算子\n",
    "age=18\n",
    "\n",
    "if not age>=18:\n",
    "    print(\"未成年\")\n",
    "else:\n",
    "    print(\"成年\")"
   ]
  },
  {
   "cell_type": "code",
   "execution_count": 33,
   "metadata": {},
   "outputs": [
    {
     "name": "stdout",
     "output_type": "stream",
     "text": [
      "請輸入金額:130000\n",
      "實際收入金額:104000.0\n"
     ]
    }
   ],
   "source": [
    "#100000元打8折.\n",
    "#50000打85折.\n",
    "#30000打9折.\n",
    "#10000打95折.\n",
    "\n",
    "import pyinputplus as pyip\n",
    "\n",
    "money=pyip.inputInt(\"請輸入金額:\",min=0)\n",
    "print(money) \n",
    "if money>=100000:\n",
    "    money*=0.8\n",
    "    print(f\"實際收入金額:{money}\")\n",
    "elif money>=50000:\n",
    "    money*=0.85\n",
    "    print(f\"實際收入金額:{money}\")\n",
    "elif money>=30000:\n",
    "    money*=0.85\n",
    "    print(f\"實際收入金額:{money}\")\n",
    "else:\n",
    "    money*=0.95\n",
    "    print(f\"實際收入金額:{money}\")"
   ]
  },
  {
   "cell_type": "code",
   "execution_count": 25,
   "metadata": {},
   "outputs": [
    {
     "name": "stdout",
     "output_type": "stream",
     "text": [
      "請輸入國文分數:100\n",
      "請輸入數學分數:100\n",
      "獎金:1000\n"
     ]
    }
   ],
   "source": [
    "#國文分數100同時數學100,獎金1000\n",
    "#國文分數100或者數學100,獎金500\n",
    "#使用巢狀判斷\n",
    "import pyinputplus as pyip\n",
    "chinese = pyip.inputInt(\"請輸入國文分數:\",min=0,max=100)\n",
    "print(chinese)\n",
    "math = pyip.inputInt(\"請輸入數學分數:\",min=0,max=100)\n",
    "print(math)\n",
    "\n",
    "if chinese == 100:\n",
    "    if math == 100:\n",
    "        bonus = 1000\n",
    "    else:\n",
    "        bonus = 500\n",
    "elif math == 100:\n",
    "    bonus = 500\n",
    "else:\n",
    "    bonus = 0\n",
    "\n",
    "print(f\"獎金:{bonus}\")"
   ]
  },
  {
   "cell_type": "code",
   "execution_count": null,
   "metadata": {},
   "outputs": [],
   "source": [
    "#國文分數100同時數學100,獎金1000\n",
    "#國文分數100或者數學100,獎金500\n",
    "#使用巢狀判斷\n",
    "import pyinputplus as pyip\n",
    "chinese = pyip.inputInt(\"請輸入國文分數:\",min=0,max=100)\n",
    "print(chinese)\n",
    "math = pyip.inputInt(\"請輸入數學分數:\",min=0,max=100)\n",
    "print(math)\n",
    "if chinese == 100 and math == 100:\n",
    "    bonus = 1000\n",
    "elif chinese == 100 or math == 100:\n",
    "    bonus = 500\n",
    "else:\n",
    "    bonus = 0\n",
    "\n",
    "print(f\"獎金:{bonus}\")   "
   ]
  },
  {
   "cell_type": "code",
   "execution_count": 46,
   "metadata": {},
   "outputs": [
    {
     "name": "stdout",
     "output_type": "stream",
     "text": [
      "請輸入身高,單位為(公分)100\n",
      "請輸入體重,單位為(公斤)100\n",
      "您的BMI: 100.0 您體重重度肥胖\n"
     ]
    }
   ],
   "source": [
    "\n",
    "import pyinputplus as pyip\n",
    "high=pyip.inputInt(\"請輸入身高,單位為(公分)\",min=0)\n",
    "print(high)\n",
    "weight=pyip.inputInt(\"請輸入體重,單位為(公斤)\")\n",
    "print(weight)\n",
    "\n",
    "BMI=weight/high*high\n",
    "\n",
    "if BMI>=35:\n",
    "    print(f\"您的BMI:\",BMI,\"您體重重度肥胖\")"
   ]
  },
  {
   "cell_type": "code",
   "execution_count": null,
   "metadata": {},
   "outputs": [],
   "source": []
  }
 ],
 "metadata": {
  "kernelspec": {
   "display_name": "Python 3",
   "language": "python",
   "name": "python3"
  },
  "language_info": {
   "codemirror_mode": {
    "name": "ipython",
    "version": 3
   },
   "file_extension": ".py",
   "mimetype": "text/x-python",
   "name": "python",
   "nbconvert_exporter": "python",
   "pygments_lexer": "ipython3",
   "version": "3.10.13"
  }
 },
 "nbformat": 4,
 "nbformat_minor": 2
}
