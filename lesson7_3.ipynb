{
 "cells": [
  {
   "cell_type": "code",
   "execution_count": 7,
   "metadata": {},
   "outputs": [
    {
     "name": "stdout",
     "output_type": "stream",
     "text": [
      "26\n"
     ]
    },
    {
     "data": {
      "text/plain": [
       "22"
      ]
     },
     "execution_count": 7,
     "metadata": {},
     "output_type": "execute_result"
    }
   ],
   "source": [
    "def haha(a,b):\n",
    "    return a+b\n",
    "print(haha(11,15))\n",
    "haha(10,12)"
   ]
  },
  {
   "cell_type": "code",
   "execution_count": 11,
   "metadata": {},
   "outputs": [
    {
     "name": "stdout",
     "output_type": "stream",
     "text": [
      "80\n",
      "===========猜數字遊戲=============\n",
      "猜數字範圍1~100: 80\n",
      "Bingo!猜對了,答案是:80\n",
      "您猜了1次\n",
      "請問還要繼續嗎?(y/n)"
     ]
    }
   ],
   "source": [
    "import random\n",
    "import pyinputplus as pyip\n",
    "def playgame():\n",
    "    count=0\n",
    "    min=1\n",
    "    max=100\n",
    "    random_number=random.randint(min,max)\n",
    "    print(random_number)\n",
    "    print(\"===========猜數字遊戲=============\")\n",
    "    while(True):\n",
    "        key_in=pyip.inputInt(f\"猜數字範圍{min}~{max}: \")\n",
    "        count+=1\n",
    "        print(key_in)\n",
    "        if key_in==random_number:\n",
    "            print(f\"Bingo!猜對了,答案是:{random_number}\")\n",
    "            print(f\"您猜了{count}次\")\n",
    "            break\n",
    "        elif key_in > random_number:\n",
    "            max=key_in-1\n",
    "            print(f\"猜錯了，再小一點\")\n",
    "            print(f\"您猜了:{count}次\")\n",
    "        elif key_in < random_number:\n",
    "            min=key_in+1\n",
    "            print(f\"猜錯了，再大一點\")\n",
    "            print(f\"您猜了:{count}次\")\n",
    "        print(\"=================================\")\n",
    "while(True):\n",
    "    playgame()\n",
    "    is_continue=pyip.inputYesNo(\"請問還要繼續嗎?(y/n)\")\n",
    "    if is_continue == \"no\":\n",
    "        break\n",
    "    print(\"遊戲結束\")"
   ]
  },
  {
   "cell_type": "code",
   "execution_count": 1,
   "metadata": {},
   "outputs": [],
   "source": [
    "import math\n",
    "def circle_area(radius):\n",
    "    area=radius**2*math.pi\n",
    "    return area\n",
    "\n"
   ]
  },
  {
   "cell_type": "code",
   "execution_count": 4,
   "metadata": {},
   "outputs": [
    {
     "name": "stdout",
     "output_type": "stream",
     "text": [
      "請輸入半徑:20.0\n",
      "半徑20.0,園面積是314.1592653589793\n"
     ]
    }
   ],
   "source": []
  },
  {
   "cell_type": "code",
   "execution_count": null,
   "metadata": {},
   "outputs": [],
   "source": []
  }
 ],
 "metadata": {
  "kernelspec": {
   "display_name": "Python 3",
   "language": "python",
   "name": "python3"
  },
  "language_info": {
   "codemirror_mode": {
    "name": "ipython",
    "version": 3
   },
   "file_extension": ".py",
   "mimetype": "text/x-python",
   "name": "python",
   "nbconvert_exporter": "python",
   "pygments_lexer": "ipython3",
   "version": "3.10.13"
  }
 },
 "nbformat": 4,
 "nbformat_minor": 2
}
